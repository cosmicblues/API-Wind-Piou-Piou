{
 "cells": [
  {
   "cell_type": "code",
   "execution_count": 1,
   "metadata": {},
   "outputs": [],
   "source": [
    "import sqlite3"
   ]
  },
  {
   "cell_type": "code",
   "execution_count": 2,
   "metadata": {},
   "outputs": [],
   "source": [
    "conn = sqlite3.connect('PiouPiou.db')\n",
    "cur = conn.cursor()"
   ]
  },
  {
   "cell_type": "code",
   "execution_count": 3,
   "metadata": {},
   "outputs": [
    {
     "data": {
      "text/plain": [
       "<sqlite3.Cursor at 0x1c9ccb9eb90>"
      ]
     },
     "execution_count": 3,
     "metadata": {},
     "output_type": "execute_result"
    }
   ],
   "source": [
    "cur.execute('''create table if not exists Infos(\n",
    "    id integer,\n",
    "    location_date DATE,\n",
    "    latitude REAL,\n",
    "    longitude REAL,\n",
    "    success TEXT,\n",
    "    measurements_date DATE,\n",
    "    pressure TEXT,\n",
    "    wind_heading REAL,\n",
    "    wind_speed_avg REAL,\n",
    "    wind_speed_max REAL,\n",
    "    wind_speed_min REAL,\n",
    "    name TEXT,\n",
    "    status_date DATE,\n",
    "    snr REAL,\n",
    "    state TEXT)\n",
    "    ''')"
   ]
  },
  {
   "cell_type": "code",
   "execution_count": 4,
   "metadata": {},
   "outputs": [],
   "source": [
    "import requests"
   ]
  },
  {
   "cell_type": "code",
   "execution_count": 5,
   "metadata": {},
   "outputs": [],
   "source": [
    "import json"
   ]
  },
  {
   "cell_type": "code",
   "execution_count": 6,
   "metadata": {},
   "outputs": [],
   "source": [
    "import pandas as pd"
   ]
  },
  {
   "cell_type": "code",
   "execution_count": 7,
   "metadata": {},
   "outputs": [],
   "source": [
    "response = requests.get('http://api.pioupiou.fr/v1/live-with-meta/all')"
   ]
  },
  {
   "cell_type": "code",
   "execution_count": 8,
   "metadata": {},
   "outputs": [],
   "source": [
    "response_1 = json.loads(response.text)"
   ]
  },
  {
   "cell_type": "code",
   "execution_count": 9,
   "metadata": {},
   "outputs": [
    {
     "data": {
      "text/plain": [
       "<function dict.keys>"
      ]
     },
     "execution_count": 9,
     "metadata": {},
     "output_type": "execute_result"
    }
   ],
   "source": [
    "response_1.keys"
   ]
  },
  {
   "cell_type": "code",
   "execution_count": 10,
   "metadata": {},
   "outputs": [],
   "source": [
    "data = []\n",
    "loc = [410,113,307]\n",
    "\n",
    "for e in loc:\n",
    "    k = '/'+str(e)\n",
    "    response = requests.get('http://api.pioupiou.fr/v1/live-with-meta'+k+'')\n",
    "\n",
    "    # Création dictionnaire Python méthode json.loads et décodeur .text\n",
    "    response_info = json.loads(response.text)\n",
    "\n",
    "    data.append([response_info['data']['id'], response_info['data']['location']['date'], response_info['data']['location']['latitude'], \n",
    "                     response_info['data']['location']['longitude'], response_info['data']['location']['success'], \n",
    "                     response_info['data']['measurements']['date'], response_info['data']['measurements']['pressure'], \n",
    "                     response_info['data']['measurements']['wind_heading'], response_info['data']['measurements']['wind_speed_avg'],  \n",
    "                     response_info['data']['measurements']['wind_speed_max'], response_info['data']['measurements']['wind_speed_min'], \n",
    "                     response_info['data']['meta']['name'], response_info['data']['meta']['date'], response_info['data']['status']['snr'], \n",
    "                     response_info['data']['status']['state']]\n",
    "                    )"
   ]
  },
  {
   "cell_type": "code",
   "execution_count": 11,
   "metadata": {},
   "outputs": [
    {
     "name": "stdout",
     "output_type": "stream",
     "text": [
      "[[410, '2021-03-11T14:56:28.000Z', 47.360617, -2.486327, True, '2021-03-11T17:08:56.000Z', None, 270, 20.5, 42.5, 7, 'PIAM Pioupiou 410', '2016-11-06T07:47:49.002Z', 0, 'on'], [113, '2021-03-11T15:02:08.000Z', 46.613649, -1.861353, True, '2021-03-11T16:55:29.000Z', None, 270, 28, None, None, 'Brétignolles sur mer - La Normandelière', '2017-08-07T13:36:13.919Z', 0, 'on'], [307, '2021-03-10T11:45:37.000Z', 46.450667, -1.581897, True, '2021-03-11T17:11:03.000Z', None, 292.5, 19.5, 27, 10.5, 'Pioupiou 307', '2016-11-14T17:26:24.725Z', 0, 'on']]\n"
     ]
    }
   ],
   "source": [
    "print(data)"
   ]
  },
  {
   "cell_type": "code",
   "execution_count": 12,
   "metadata": {},
   "outputs": [],
   "source": [
    "insert = \"\"\"\n",
    "    INSERT INTO Infos (id, location_date, latitude, longitude, success, measurements_date, pressure, \n",
    "    wind_heading, wind_speed_avg, wind_speed_max, wind_speed_min, name, status_date, snr, state)\n",
    "    VALUES (?,?,?,?,?,?,?,?,?,?,?,?,?,?,?)\n",
    "\"\"\""
   ]
  },
  {
   "cell_type": "code",
   "execution_count": 13,
   "metadata": {},
   "outputs": [
    {
     "data": {
      "text/plain": [
       "<sqlite3.Cursor at 0x1c9ccb9eb90>"
      ]
     },
     "execution_count": 13,
     "metadata": {},
     "output_type": "execute_result"
    }
   ],
   "source": [
    "cur.executemany(insert, data)"
   ]
  },
  {
   "cell_type": "code",
   "execution_count": 14,
   "metadata": {},
   "outputs": [],
   "source": [
    "conn.commit()"
   ]
  },
  {
   "cell_type": "code",
   "execution_count": 15,
   "metadata": {},
   "outputs": [],
   "source": [
    "conn.close()"
   ]
  },
  {
   "cell_type": "code",
   "execution_count": null,
   "metadata": {},
   "outputs": [],
   "source": []
  }
 ],
 "metadata": {
  "kernelspec": {
   "display_name": "Python 3",
   "language": "python",
   "name": "python3"
  },
  "language_info": {
   "codemirror_mode": {
    "name": "ipython",
    "version": 3
   },
   "file_extension": ".py",
   "mimetype": "text/x-python",
   "name": "python",
   "nbconvert_exporter": "python",
   "pygments_lexer": "ipython3",
   "version": "3.8.6"
  }
 },
 "nbformat": 4,
 "nbformat_minor": 4
}
